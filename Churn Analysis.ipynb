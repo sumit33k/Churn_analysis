{
 "cells": [
  {
   "cell_type": "markdown",
   "metadata": {},
   "source": [
    "# Churn Analysis"
   ]
  },
  {
   "cell_type": "markdown",
   "metadata": {},
   "source": [
    "## 1. Introduction"
   ]
  },
  {
   "cell_type": "markdown",
   "metadata": {},
   "source": [
    "Description of the data set\n",
    "This is a toy example of a non-subscription marketplace. The events set contains the web logs from the seller, product, buy pages. The products set describes the items for sale.\n"
   ]
  },
  {
   "cell_type": "markdown",
   "metadata": {},
   "source": [
    "Import the libraries"
   ]
  },
  {
   "cell_type": "code",
   "execution_count": 1,
   "metadata": {},
   "outputs": [],
   "source": [
    "# Import the libraries\n",
    "import pandas as pd\n",
    "from datetime import datetime \n",
    "from sklearn.externals.six import StringIO  \n",
    "from sklearn.linear_model import LogisticRegression\n",
    "from IPython.display import Image  \n",
    "from sklearn.tree import export_graphviz\n",
    "import pydotplus\n",
    "from scipy import stats\n",
    "from sklearn.model_selection import train_test_split\n",
    "import numpy as np\n",
    "import seaborn as sns\n",
    "from sklearn import metrics\n",
    "from sklearn import tree\n",
    "from imblearn.over_sampling import SMOTE\n",
    "from sklearn.metrics import roc_auc_score\n",
    "from sklearn.metrics import roc_curve\n",
    "from sklearn.tree import DecisionTreeClassifier\n",
    "from sklearn.metrics import accuracy_score, classification_report,confusion_matrix\n",
    "from sklearn.ensemble import RandomForestClassifier\n",
    "import matplotlib.pylab as plt\n",
    "%matplotlib inline\n",
    "from imblearn.over_sampling import RandomOverSampler\n",
    "import seaborn as sns # advanced vizs\n",
    "%matplotlib inline\n",
    "from matplotlib.pylab import rcParams\n",
    "rcParams['figure.figsize'] = 15, 9\n",
    "pd.options.display.float_format = '{:.2f}'.format\n"
   ]
  },
  {
   "cell_type": "markdown",
   "metadata": {},
   "source": [
    "Import the data from csv files and store it in pandas dataframes. "
   ]
  },
  {
   "cell_type": "code",
   "execution_count": 2,
   "metadata": {},
   "outputs": [],
   "source": [
    "data1=pd.read_csv('products1.csv')\n",
    "data2=pd.read_csv('events1.csv')"
   ]
  },
  {
   "cell_type": "markdown",
   "metadata": {},
   "source": [
    "Sample data looks as below."
   ]
  },
  {
   "cell_type": "code",
   "execution_count": 3,
   "metadata": {},
   "outputs": [
    {
     "data": {
      "text/plain": [
       "(   PRODUCT_ID  PRICE  CATEGORY_0  CATEGORY_1\n",
       " 0           0  20.04           9          38\n",
       " 1           1   7.02           5          37\n",
       " 2           2  10.00           6          19\n",
       " 3           3  12.00           4          12\n",
       " 4           4   0.01           1          39,\n",
       "           TIMESTAMP  USER_ID      TYPE  PRODUCT_ID  OVERVIEW_ID\n",
       " 0  07/10/2014 12:00        7   product     5209.00       217460\n",
       " 1  07/10/2014 12:00        7  overview         nan       140700\n",
       " 2  07/10/2014 12:00        7   product   800435.00       276485\n",
       " 3  07/10/2014 20:00        7  overview         nan        89705\n",
       " 4  07/10/2014 20:00        7   product   250836.00       105130)"
      ]
     },
     "execution_count": 3,
     "metadata": {},
     "output_type": "execute_result"
    }
   ],
   "source": [
    "data1.head(),data2.head()"
   ]
  },
  {
   "cell_type": "markdown",
   "metadata": {},
   "source": [
    "By observing the data below assumptions were made.\n",
    "1. Product data has CATEGORY_0 and CATEGORY_1 - Here CATEGORY_0 is considered as Main category and CATEGORY_1 is considered as a subcategory.\n",
    "2. Event data has Timestamp for each activity.\n",
    "3. TYPE column has different activities.\n",
    "    1. overview - Users activity of viewing the items in the categories. Each users overview is given an OVERVIEW_ID. Here the customer is viewing many items in the category hence Overview type is not given a product_ID.\n",
    "    2. product - Users activity of viewing a particular product. Each product is identified by a PRODUCT_ID and an OVERVIEW_ID.\n",
    "    3. purchase - Users activity of viewing a particular product. Each product is identified by a PRODUCT_ID and an OVERVIEW_ID. Whenever a user views a product and purchases them, the overview_id for both the activities will be same.\n",
    "    "
   ]
  },
  {
   "cell_type": "markdown",
   "metadata": {},
   "source": [
    "Join product and event data on **PRODUCT_ID** to form a newdataset."
   ]
  },
  {
   "cell_type": "code",
   "execution_count": 4,
   "metadata": {},
   "outputs": [],
   "source": [
    "result = pd.merge(data1, data2, on='PRODUCT_ID', how='right')"
   ]
  },
  {
   "cell_type": "markdown",
   "metadata": {},
   "source": [
    "Sample data looks as below"
   ]
  },
  {
   "cell_type": "code",
   "execution_count": 5,
   "metadata": {},
   "outputs": [],
   "source": [
    "result.dropna(inplace=True)"
   ]
  },
  {
   "cell_type": "code",
   "execution_count": 6,
   "metadata": {},
   "outputs": [
    {
     "data": {
      "text/html": [
       "<div>\n",
       "<style scoped>\n",
       "    .dataframe tbody tr th:only-of-type {\n",
       "        vertical-align: middle;\n",
       "    }\n",
       "\n",
       "    .dataframe tbody tr th {\n",
       "        vertical-align: top;\n",
       "    }\n",
       "\n",
       "    .dataframe thead th {\n",
       "        text-align: right;\n",
       "    }\n",
       "</style>\n",
       "<table border=\"1\" class=\"dataframe\">\n",
       "  <thead>\n",
       "    <tr style=\"text-align: right;\">\n",
       "      <th></th>\n",
       "      <th>PRODUCT_ID</th>\n",
       "      <th>PRICE</th>\n",
       "      <th>CATEGORY_0</th>\n",
       "      <th>CATEGORY_1</th>\n",
       "      <th>TIMESTAMP</th>\n",
       "      <th>USER_ID</th>\n",
       "      <th>TYPE</th>\n",
       "      <th>OVERVIEW_ID</th>\n",
       "    </tr>\n",
       "  </thead>\n",
       "  <tbody>\n",
       "    <tr>\n",
       "      <th>0</th>\n",
       "      <td>0.00</td>\n",
       "      <td>20.04</td>\n",
       "      <td>9.00</td>\n",
       "      <td>38.00</td>\n",
       "      <td>07/12/2014 20:00</td>\n",
       "      <td>1015504</td>\n",
       "      <td>product</td>\n",
       "      <td>455490</td>\n",
       "    </tr>\n",
       "    <tr>\n",
       "      <th>1</th>\n",
       "      <td>2.00</td>\n",
       "      <td>10.00</td>\n",
       "      <td>6.00</td>\n",
       "      <td>19.00</td>\n",
       "      <td>07/12/2014 18:00</td>\n",
       "      <td>262836</td>\n",
       "      <td>product</td>\n",
       "      <td>3890</td>\n",
       "    </tr>\n",
       "    <tr>\n",
       "      <th>2</th>\n",
       "      <td>6.00</td>\n",
       "      <td>39.18</td>\n",
       "      <td>1.00</td>\n",
       "      <td>45.00</td>\n",
       "      <td>13/12/2014 14:00</td>\n",
       "      <td>211435</td>\n",
       "      <td>product</td>\n",
       "      <td>2750</td>\n",
       "    </tr>\n",
       "    <tr>\n",
       "      <th>4</th>\n",
       "      <td>8.00</td>\n",
       "      <td>29.49</td>\n",
       "      <td>2.00</td>\n",
       "      <td>105.00</td>\n",
       "      <td>28/01/2015 21:00</td>\n",
       "      <td>122290</td>\n",
       "      <td>product</td>\n",
       "      <td>29470</td>\n",
       "    </tr>\n",
       "    <tr>\n",
       "      <th>5</th>\n",
       "      <td>8.00</td>\n",
       "      <td>29.49</td>\n",
       "      <td>2.00</td>\n",
       "      <td>105.00</td>\n",
       "      <td>24/11/2014 18:00</td>\n",
       "      <td>157339</td>\n",
       "      <td>product</td>\n",
       "      <td>29470</td>\n",
       "    </tr>\n",
       "  </tbody>\n",
       "</table>\n",
       "</div>"
      ],
      "text/plain": [
       "   PRODUCT_ID  PRICE  CATEGORY_0  CATEGORY_1         TIMESTAMP  USER_ID  \\\n",
       "0        0.00  20.04        9.00       38.00  07/12/2014 20:00  1015504   \n",
       "1        2.00  10.00        6.00       19.00  07/12/2014 18:00   262836   \n",
       "2        6.00  39.18        1.00       45.00  13/12/2014 14:00   211435   \n",
       "4        8.00  29.49        2.00      105.00  28/01/2015 21:00   122290   \n",
       "5        8.00  29.49        2.00      105.00  24/11/2014 18:00   157339   \n",
       "\n",
       "      TYPE  OVERVIEW_ID  \n",
       "0  product       455490  \n",
       "1  product         3890  \n",
       "2  product         2750  \n",
       "4  product        29470  \n",
       "5  product        29470  "
      ]
     },
     "execution_count": 6,
     "metadata": {},
     "output_type": "execute_result"
    }
   ],
   "source": [
    "result.head()"
   ]
  },
  {
   "cell_type": "markdown",
   "metadata": {},
   "source": [
    "Here chrun is defined as: users viewing the products multiple times but not going further to purchase them.  Since we will be calling purchasing is a succesful transaction, we will be considering the TYPES product and purchase only by discarding the overview."
   ]
  },
  {
   "cell_type": "markdown",
   "metadata": {},
   "source": [
    "##  2. Data Preparation and Feature Selection"
   ]
  },
  {
   "cell_type": "markdown",
   "metadata": {},
   "source": [
    "Feature engineering is the process of using domain knowledge of the data to create features that make machine learning algorithms work. \n",
    "\n",
    "These following features currently exist in our dataset **result**.\n",
    "1. PRODUCT_ID: Unique identifier to each product\n",
    "2. PRICE: Price for the product\n",
    "3. CATEGORY_0: Main category the product belongs to.\n",
    "4. CATEGORY_1: Sub category to CATEGORY_0\n",
    "5. TIMESTAMP: Timestamp of the activity or transaction.\n",
    "6. USER_ID: Unique identifier to User.\n",
    "7. TYPE: Type of the activity.\n",
    "8. OVERVIEW_ID: User session id.\n",
    "\n",
    "From the existing features its hard to analyse the data further.\n",
    "In order to predict the future purchases its important to extract key features from the existing variables.\n",
    "\n"
   ]
  },
  {
   "cell_type": "markdown",
   "metadata": {},
   "source": [
    "### 2.1. Data Preparation\n",
    "From the timestamp variable following features have been extracted.\n",
    "1. Day_of_week: Day of the week the activity has been done.(Sun-Sat: 0-6)\n",
    "2. Day_of_Month: 1-31\n",
    "3. month_of_year: 1-12\n",
    "4. Hour_of_day:00-23\n"
   ]
  },
  {
   "cell_type": "code",
   "execution_count": 7,
   "metadata": {},
   "outputs": [],
   "source": [
    "# Convert timestamp column into timestamp type \n",
    "result['TIMESTAMP'] = result['TIMESTAMP'].apply(lambda x: datetime.strptime(x,'%d/%m/%Y %H:%M'))\n",
    "# Extract the features from timestamo column \n",
    "result['Day_of_week']=result['TIMESTAMP'].dt.dayofweek\n",
    "result['Day_of_Month']=result['TIMESTAMP'].dt.day\n",
    "result['month_of_year']=result['TIMESTAMP'].dt.month\n",
    "result['Hour_of_day']=result['TIMESTAMP'].dt.hour\n",
    "result['Day']=result['TIMESTAMP'].dt.weekday_name"
   ]
  },
  {
   "cell_type": "markdown",
   "metadata": {},
   "source": [
    "The result dataset looks as below"
   ]
  },
  {
   "cell_type": "code",
   "execution_count": 8,
   "metadata": {},
   "outputs": [
    {
     "data": {
      "text/html": [
       "<div>\n",
       "<style scoped>\n",
       "    .dataframe tbody tr th:only-of-type {\n",
       "        vertical-align: middle;\n",
       "    }\n",
       "\n",
       "    .dataframe tbody tr th {\n",
       "        vertical-align: top;\n",
       "    }\n",
       "\n",
       "    .dataframe thead th {\n",
       "        text-align: right;\n",
       "    }\n",
       "</style>\n",
       "<table border=\"1\" class=\"dataframe\">\n",
       "  <thead>\n",
       "    <tr style=\"text-align: right;\">\n",
       "      <th></th>\n",
       "      <th>PRODUCT_ID</th>\n",
       "      <th>PRICE</th>\n",
       "      <th>CATEGORY_0</th>\n",
       "      <th>CATEGORY_1</th>\n",
       "      <th>TIMESTAMP</th>\n",
       "      <th>USER_ID</th>\n",
       "      <th>TYPE</th>\n",
       "      <th>OVERVIEW_ID</th>\n",
       "      <th>Day_of_week</th>\n",
       "      <th>Day_of_Month</th>\n",
       "      <th>month_of_year</th>\n",
       "      <th>Hour_of_day</th>\n",
       "      <th>Day</th>\n",
       "    </tr>\n",
       "  </thead>\n",
       "  <tbody>\n",
       "    <tr>\n",
       "      <th>0</th>\n",
       "      <td>0.00</td>\n",
       "      <td>20.04</td>\n",
       "      <td>9.00</td>\n",
       "      <td>38.00</td>\n",
       "      <td>2014-12-07 20:00:00</td>\n",
       "      <td>1015504</td>\n",
       "      <td>product</td>\n",
       "      <td>455490</td>\n",
       "      <td>6</td>\n",
       "      <td>7</td>\n",
       "      <td>12</td>\n",
       "      <td>20</td>\n",
       "      <td>Sunday</td>\n",
       "    </tr>\n",
       "    <tr>\n",
       "      <th>1</th>\n",
       "      <td>2.00</td>\n",
       "      <td>10.00</td>\n",
       "      <td>6.00</td>\n",
       "      <td>19.00</td>\n",
       "      <td>2014-12-07 18:00:00</td>\n",
       "      <td>262836</td>\n",
       "      <td>product</td>\n",
       "      <td>3890</td>\n",
       "      <td>6</td>\n",
       "      <td>7</td>\n",
       "      <td>12</td>\n",
       "      <td>18</td>\n",
       "      <td>Sunday</td>\n",
       "    </tr>\n",
       "    <tr>\n",
       "      <th>2</th>\n",
       "      <td>6.00</td>\n",
       "      <td>39.18</td>\n",
       "      <td>1.00</td>\n",
       "      <td>45.00</td>\n",
       "      <td>2014-12-13 14:00:00</td>\n",
       "      <td>211435</td>\n",
       "      <td>product</td>\n",
       "      <td>2750</td>\n",
       "      <td>5</td>\n",
       "      <td>13</td>\n",
       "      <td>12</td>\n",
       "      <td>14</td>\n",
       "      <td>Saturday</td>\n",
       "    </tr>\n",
       "    <tr>\n",
       "      <th>4</th>\n",
       "      <td>8.00</td>\n",
       "      <td>29.49</td>\n",
       "      <td>2.00</td>\n",
       "      <td>105.00</td>\n",
       "      <td>2015-01-28 21:00:00</td>\n",
       "      <td>122290</td>\n",
       "      <td>product</td>\n",
       "      <td>29470</td>\n",
       "      <td>2</td>\n",
       "      <td>28</td>\n",
       "      <td>1</td>\n",
       "      <td>21</td>\n",
       "      <td>Wednesday</td>\n",
       "    </tr>\n",
       "    <tr>\n",
       "      <th>5</th>\n",
       "      <td>8.00</td>\n",
       "      <td>29.49</td>\n",
       "      <td>2.00</td>\n",
       "      <td>105.00</td>\n",
       "      <td>2014-11-24 18:00:00</td>\n",
       "      <td>157339</td>\n",
       "      <td>product</td>\n",
       "      <td>29470</td>\n",
       "      <td>0</td>\n",
       "      <td>24</td>\n",
       "      <td>11</td>\n",
       "      <td>18</td>\n",
       "      <td>Monday</td>\n",
       "    </tr>\n",
       "  </tbody>\n",
       "</table>\n",
       "</div>"
      ],
      "text/plain": [
       "   PRODUCT_ID  PRICE  CATEGORY_0  CATEGORY_1           TIMESTAMP  USER_ID  \\\n",
       "0        0.00  20.04        9.00       38.00 2014-12-07 20:00:00  1015504   \n",
       "1        2.00  10.00        6.00       19.00 2014-12-07 18:00:00   262836   \n",
       "2        6.00  39.18        1.00       45.00 2014-12-13 14:00:00   211435   \n",
       "4        8.00  29.49        2.00      105.00 2015-01-28 21:00:00   122290   \n",
       "5        8.00  29.49        2.00      105.00 2014-11-24 18:00:00   157339   \n",
       "\n",
       "      TYPE  OVERVIEW_ID  Day_of_week  Day_of_Month  month_of_year  \\\n",
       "0  product       455490            6             7             12   \n",
       "1  product         3890            6             7             12   \n",
       "2  product         2750            5            13             12   \n",
       "4  product        29470            2            28              1   \n",
       "5  product        29470            0            24             11   \n",
       "\n",
       "   Hour_of_day        Day  \n",
       "0           20     Sunday  \n",
       "1           18     Sunday  \n",
       "2           14   Saturday  \n",
       "4           21  Wednesday  \n",
       "5           18     Monday  "
      ]
     },
     "execution_count": 8,
     "metadata": {},
     "output_type": "execute_result"
    }
   ],
   "source": [
    "result.head()"
   ]
  },
  {
   "cell_type": "markdown",
   "metadata": {},
   "source": [
    "##### Target Column\n",
    "TYPE has 3 categories. When the activity is 'purchase', the product has been bought successfully and other activities are considered as unsuccessful transactions. A new target variable is created to indicate this\n",
    "\n",
    "1. Buy - 0: unsuccessful transaction 1:successful transaction"
   ]
  },
  {
   "cell_type": "code",
   "execution_count": 9,
   "metadata": {},
   "outputs": [],
   "source": [
    "# Add a column to indicate if an item is purchased or not\n",
    "result['BUY']=np.where(result['TYPE']=='purchase',1,0)"
   ]
  },
  {
   "cell_type": "code",
   "execution_count": 10,
   "metadata": {},
   "outputs": [],
   "source": [
    "# Sort the dataset based on Product_id and TIMESTAMP\n",
    "result=result.sort_values(['PRODUCT_ID', 'TIMESTAMP'], ascending=[True, True])"
   ]
  },
  {
   "cell_type": "markdown",
   "metadata": {
    "slideshow": {
     "slide_type": "-"
    }
   },
   "source": [
    "### 2.2 Feature extraction\n",
    "\n",
    "Below are the set of features extracted from the existing dataset\n",
    "1. product_buy: Number of times the product has been purchased before this transaction(incremental).\n",
    "2. User_buy: Number of purchases made by the user in the last 5 months\n",
    "3. user_session: Number of users sessions in the last 5 months\n",
    "4. user_buy_category: Number of items user bought the items in the last 5 months in the same category\n",
    "\n",
    "Here for the variables User_buy, user_session, user_buy_category it is assumed that the user behaviour is same throughout. The entire dataset is used calculate these values."
   ]
  },
  {
   "cell_type": "code",
   "execution_count": 11,
   "metadata": {},
   "outputs": [],
   "source": [
    "# Number of purchases made by the user in the last 5 months\n",
    "user_purchase=result[result['TYPE']=='purchase'].groupby(['USER_ID']).sum()['BUY']\n",
    "user_purchase=pd.DataFrame(dict(User_buy = user_purchase)).reset_index()\n",
    "result1=pd.merge(result,user_purchase,on='USER_ID',how='left')\n",
    "result1['User_buy']=result1['User_buy'].fillna(0)"
   ]
  },
  {
   "cell_type": "code",
   "execution_count": 12,
   "metadata": {},
   "outputs": [],
   "source": [
    "# Number of times this product is bought before 5 months\n",
    "product_buy=result[result['TYPE']=='purchase'].groupby(['PRODUCT_ID']).sum()['BUY']\n",
    "product_buy=pd.DataFrame(dict(product_buy = product_buy)).reset_index()\n",
    "result2=pd.merge(result1,product_buy,on='PRODUCT_ID',how='left')"
   ]
  },
  {
   "cell_type": "code",
   "execution_count": 13,
   "metadata": {},
   "outputs": [],
   "source": [
    "# Number of times this product has been bought before this transaction\n",
    "result2=result2.sort_values(['PRODUCT_ID', 'TIMESTAMP'], ascending=[True, True])\n",
    "x=result2['PRODUCT_ID'].tolist()\n",
    "y=result2['BUY'].tolist()\n",
    "count=0\n",
    "z=[]\n",
    "for i in range(0,len(x)):\n",
    "    if x[i]==x[i-1] :\n",
    "        if y[i]==1:\n",
    "            z.append(count)\n",
    "            count=count+1\n",
    "        else:\n",
    "            z.append(count)\n",
    "  \n",
    "    elif x[i]!=[i-1]:\n",
    "        if y[i]==1:\n",
    "            z.append(0)\n",
    "            count=1\n",
    "        else:\n",
    "            count=0\n",
    "            z.append(0)\n",
    "result2['Bought_Before']=z        \n"
   ]
  },
  {
   "cell_type": "code",
   "execution_count": 14,
   "metadata": {},
   "outputs": [],
   "source": [
    "# Number of users session in the last 5 months\n",
    "user_session=result2.groupby(['USER_ID']).count()['BUY']\n",
    "user_session=pd.DataFrame(dict(user_session = user_session)).reset_index()\n",
    "result3=pd.merge(result2,user_session,on='USER_ID',how='left')"
   ]
  },
  {
   "cell_type": "code",
   "execution_count": 15,
   "metadata": {},
   "outputs": [],
   "source": [
    "# Number of items user bought before in the last 5 months in the same category\n",
    "user_buy_category=result3.groupby(['USER_ID','CATEGORY_0']).sum()['BUY']\n",
    "user_buy_category=pd.DataFrame(dict(user_buy_category = user_buy_category)).reset_index()\n",
    "\n",
    "\n",
    "result4=pd.merge(result3,user_buy_category,on=['USER_ID','CATEGORY_0'],how='left')"
   ]
  },
  {
   "cell_type": "markdown",
   "metadata": {},
   "source": [
    "Our final dataset looks as below"
   ]
  },
  {
   "cell_type": "code",
   "execution_count": 16,
   "metadata": {},
   "outputs": [
    {
     "name": "stdout",
     "output_type": "stream",
     "text": [
      "<class 'pandas.core.frame.DataFrame'>\n",
      "Int64Index: 718992 entries, 0 to 718991\n",
      "Data columns (total 19 columns):\n",
      "PRODUCT_ID           718992 non-null float64\n",
      "PRICE                718992 non-null float64\n",
      "CATEGORY_0           718992 non-null float64\n",
      "CATEGORY_1           718992 non-null float64\n",
      "TIMESTAMP            718992 non-null datetime64[ns]\n",
      "USER_ID              718992 non-null int64\n",
      "TYPE                 718992 non-null object\n",
      "OVERVIEW_ID          718992 non-null int64\n",
      "Day_of_week          718992 non-null int64\n",
      "Day_of_Month         718992 non-null int64\n",
      "month_of_year        718992 non-null int64\n",
      "Hour_of_day          718992 non-null int64\n",
      "Day                  718992 non-null object\n",
      "BUY                  718992 non-null int32\n",
      "User_buy             718992 non-null float64\n",
      "product_buy          107586 non-null float64\n",
      "Bought_Before        718992 non-null int64\n",
      "user_session         718992 non-null int64\n",
      "user_buy_category    718992 non-null int32\n",
      "dtypes: datetime64[ns](1), float64(6), int32(2), int64(8), object(2)\n",
      "memory usage: 104.2+ MB\n"
     ]
    }
   ],
   "source": [
    "result4.info()"
   ]
  },
  {
   "cell_type": "code",
   "execution_count": 17,
   "metadata": {},
   "outputs": [],
   "source": [
    "churn=result4[['PRODUCT_ID','USER_ID','PRICE','CATEGORY_0','CATEGORY_1','Day_of_week','month_of_year','Hour_of_day','Day_of_Month','User_buy','Bought_Before','user_session','user_buy_category','BUY']].copy()"
   ]
  },
  {
   "cell_type": "code",
   "execution_count": 18,
   "metadata": {},
   "outputs": [
    {
     "data": {
      "text/html": [
       "<div>\n",
       "<style scoped>\n",
       "    .dataframe tbody tr th:only-of-type {\n",
       "        vertical-align: middle;\n",
       "    }\n",
       "\n",
       "    .dataframe tbody tr th {\n",
       "        vertical-align: top;\n",
       "    }\n",
       "\n",
       "    .dataframe thead th {\n",
       "        text-align: right;\n",
       "    }\n",
       "</style>\n",
       "<table border=\"1\" class=\"dataframe\">\n",
       "  <thead>\n",
       "    <tr style=\"text-align: right;\">\n",
       "      <th></th>\n",
       "      <th>PRODUCT_ID</th>\n",
       "      <th>USER_ID</th>\n",
       "      <th>PRICE</th>\n",
       "      <th>CATEGORY_0</th>\n",
       "      <th>CATEGORY_1</th>\n",
       "      <th>Day_of_week</th>\n",
       "      <th>month_of_year</th>\n",
       "      <th>Hour_of_day</th>\n",
       "      <th>Day_of_Month</th>\n",
       "      <th>User_buy</th>\n",
       "      <th>Bought_Before</th>\n",
       "      <th>user_session</th>\n",
       "      <th>user_buy_category</th>\n",
       "      <th>BUY</th>\n",
       "    </tr>\n",
       "  </thead>\n",
       "  <tbody>\n",
       "    <tr>\n",
       "      <th>count</th>\n",
       "      <td>718992.00</td>\n",
       "      <td>718992.00</td>\n",
       "      <td>718992.00</td>\n",
       "      <td>718992.00</td>\n",
       "      <td>718992.00</td>\n",
       "      <td>718992.00</td>\n",
       "      <td>718992.00</td>\n",
       "      <td>718992.00</td>\n",
       "      <td>718992.00</td>\n",
       "      <td>718992.00</td>\n",
       "      <td>718992.00</td>\n",
       "      <td>718992.00</td>\n",
       "      <td>718992.00</td>\n",
       "      <td>718992.00</td>\n",
       "    </tr>\n",
       "    <tr>\n",
       "      <th>mean</th>\n",
       "      <td>417985.07</td>\n",
       "      <td>519994.20</td>\n",
       "      <td>6683.45</td>\n",
       "      <td>3.71</td>\n",
       "      <td>54.19</td>\n",
       "      <td>3.00</td>\n",
       "      <td>7.77</td>\n",
       "      <td>15.22</td>\n",
       "      <td>15.15</td>\n",
       "      <td>2.50</td>\n",
       "      <td>0.06</td>\n",
       "      <td>171.33</td>\n",
       "      <td>0.74</td>\n",
       "      <td>0.06</td>\n",
       "    </tr>\n",
       "    <tr>\n",
       "      <th>std</th>\n",
       "      <td>242100.98</td>\n",
       "      <td>308640.97</td>\n",
       "      <td>523054.53</td>\n",
       "      <td>3.21</td>\n",
       "      <td>33.41</td>\n",
       "      <td>2.00</td>\n",
       "      <td>4.76</td>\n",
       "      <td>5.29</td>\n",
       "      <td>8.67</td>\n",
       "      <td>7.04</td>\n",
       "      <td>0.31</td>\n",
       "      <td>399.55</td>\n",
       "      <td>2.84</td>\n",
       "      <td>0.23</td>\n",
       "    </tr>\n",
       "    <tr>\n",
       "      <th>min</th>\n",
       "      <td>0.00</td>\n",
       "      <td>7.00</td>\n",
       "      <td>0.01</td>\n",
       "      <td>0.00</td>\n",
       "      <td>0.00</td>\n",
       "      <td>0.00</td>\n",
       "      <td>1.00</td>\n",
       "      <td>0.00</td>\n",
       "      <td>1.00</td>\n",
       "      <td>0.00</td>\n",
       "      <td>0.00</td>\n",
       "      <td>1.00</td>\n",
       "      <td>0.00</td>\n",
       "      <td>0.00</td>\n",
       "    </tr>\n",
       "    <tr>\n",
       "      <th>25%</th>\n",
       "      <td>207380.25</td>\n",
       "      <td>242291.00</td>\n",
       "      <td>7.98</td>\n",
       "      <td>1.00</td>\n",
       "      <td>31.00</td>\n",
       "      <td>1.00</td>\n",
       "      <td>1.00</td>\n",
       "      <td>11.00</td>\n",
       "      <td>8.00</td>\n",
       "      <td>0.00</td>\n",
       "      <td>0.00</td>\n",
       "      <td>12.00</td>\n",
       "      <td>0.00</td>\n",
       "      <td>0.00</td>\n",
       "    </tr>\n",
       "    <tr>\n",
       "      <th>50%</th>\n",
       "      <td>418301.00</td>\n",
       "      <td>517874.00</td>\n",
       "      <td>15.07</td>\n",
       "      <td>2.00</td>\n",
       "      <td>43.00</td>\n",
       "      <td>3.00</td>\n",
       "      <td>10.00</td>\n",
       "      <td>16.00</td>\n",
       "      <td>15.00</td>\n",
       "      <td>1.00</td>\n",
       "      <td>0.00</td>\n",
       "      <td>39.00</td>\n",
       "      <td>0.00</td>\n",
       "      <td>0.00</td>\n",
       "    </tr>\n",
       "    <tr>\n",
       "      <th>75%</th>\n",
       "      <td>627170.50</td>\n",
       "      <td>789131.00</td>\n",
       "      <td>28.07</td>\n",
       "      <td>6.00</td>\n",
       "      <td>83.00</td>\n",
       "      <td>5.00</td>\n",
       "      <td>12.00</td>\n",
       "      <td>20.00</td>\n",
       "      <td>22.00</td>\n",
       "      <td>2.00</td>\n",
       "      <td>0.00</td>\n",
       "      <td>135.00</td>\n",
       "      <td>1.00</td>\n",
       "      <td>0.00</td>\n",
       "    </tr>\n",
       "    <tr>\n",
       "      <th>max</th>\n",
       "      <td>837867.00</td>\n",
       "      <td>1062964.00</td>\n",
       "      <td>57006748.96</td>\n",
       "      <td>11.00</td>\n",
       "      <td>124.00</td>\n",
       "      <td>6.00</td>\n",
       "      <td>12.00</td>\n",
       "      <td>23.00</td>\n",
       "      <td>31.00</td>\n",
       "      <td>105.00</td>\n",
       "      <td>10.00</td>\n",
       "      <td>3206.00</td>\n",
       "      <td>62.00</td>\n",
       "      <td>1.00</td>\n",
       "    </tr>\n",
       "  </tbody>\n",
       "</table>\n",
       "</div>"
      ],
      "text/plain": [
       "       PRODUCT_ID    USER_ID       PRICE  CATEGORY_0  CATEGORY_1  Day_of_week  \\\n",
       "count   718992.00  718992.00   718992.00   718992.00   718992.00    718992.00   \n",
       "mean    417985.07  519994.20     6683.45        3.71       54.19         3.00   \n",
       "std     242100.98  308640.97   523054.53        3.21       33.41         2.00   \n",
       "min          0.00       7.00        0.01        0.00        0.00         0.00   \n",
       "25%     207380.25  242291.00        7.98        1.00       31.00         1.00   \n",
       "50%     418301.00  517874.00       15.07        2.00       43.00         3.00   \n",
       "75%     627170.50  789131.00       28.07        6.00       83.00         5.00   \n",
       "max     837867.00 1062964.00 57006748.96       11.00      124.00         6.00   \n",
       "\n",
       "       month_of_year  Hour_of_day  Day_of_Month  User_buy  Bought_Before  \\\n",
       "count      718992.00    718992.00     718992.00 718992.00      718992.00   \n",
       "mean            7.77        15.22         15.15      2.50           0.06   \n",
       "std             4.76         5.29          8.67      7.04           0.31   \n",
       "min             1.00         0.00          1.00      0.00           0.00   \n",
       "25%             1.00        11.00          8.00      0.00           0.00   \n",
       "50%            10.00        16.00         15.00      1.00           0.00   \n",
       "75%            12.00        20.00         22.00      2.00           0.00   \n",
       "max            12.00        23.00         31.00    105.00          10.00   \n",
       "\n",
       "       user_session  user_buy_category       BUY  \n",
       "count     718992.00          718992.00 718992.00  \n",
       "mean         171.33               0.74      0.06  \n",
       "std          399.55               2.84      0.23  \n",
       "min            1.00               0.00      0.00  \n",
       "25%           12.00               0.00      0.00  \n",
       "50%           39.00               0.00      0.00  \n",
       "75%          135.00               1.00      0.00  \n",
       "max         3206.00              62.00      1.00  "
      ]
     },
     "execution_count": 18,
     "metadata": {},
     "output_type": "execute_result"
    }
   ],
   "source": [
    "churn.describe()"
   ]
  },
  {
   "cell_type": "markdown",
   "metadata": {},
   "source": [
    "### 2.3. Correlation \n",
    "\n"
   ]
  },
  {
   "cell_type": "code",
   "execution_count": 19,
   "metadata": {},
   "outputs": [
    {
     "data": {
      "image/png": "[encoded data removed]",
      "text/plain": [
       "<matplotlib.figure.Figure at 0x28eec09dfd0>"
      ]
     },
     "metadata": {},
     "output_type": "display_data"
    }
   ],
   "source": [
    "\n",
    "# Compute the correlation matrix \n",
    "\n",
    "corr_all = churn.corr()\n",
    "\n",
    "# Generate a mask for the upper triangle\n",
    "mask = np.zeros_like(corr_all, dtype = np.bool)\n",
    "mask[np.triu_indices_from(mask)] = True\n",
    "\n",
    "# Set up the matplotlib figure\n",
    "f, ax = plt.subplots(figsize = (10, 6))\n",
    "\n",
    "# Draw the heatmap with the mask and correct aspect ratio\n",
    "sns.heatmap(corr_all, mask = mask,\n",
    "            square = True, linewidths = .5, ax = ax, cmap = \"BuPu\")      \n",
    "plt.show()"
   ]
  },
  {
   "cell_type": "markdown",
   "metadata": {},
   "source": [
    "from the correlation matrix it can be seen that the variables User_buy and User_buy_category are highly correlated. Since both the variables almost provide same information, one of the variables(User_buy) has been dropped from the dataframe."
   ]
  },
  {
   "cell_type": "code",
   "execution_count": 20,
   "metadata": {},
   "outputs": [],
   "source": [
    "churn=churn.drop(['User_buy'],axis=1)\n"
   ]
  },
  {
   "cell_type": "markdown",
   "metadata": {},
   "source": [
    "## 3. Data Exploration\n"
   ]
  },
  {
   "cell_type": "markdown",
   "metadata": {},
   "source": [
    "Below table shows average number of views on products before a product is purchased."
   ]
  },
  {
   "cell_type": "code",
   "execution_count": 21,
   "metadata": {},
   "outputs": [
    {
     "name": "stdout",
     "output_type": "stream",
     "text": [
      "=======================================================\n",
      "Total Number of Product views: 683214 \n",
      "Total number of purchases made: 41453 \n",
      "Ratio of product views to purchases: 16.61\n",
      "=======================================================\n"
     ]
    }
   ],
   "source": [
    "#Below table shows average number of views on products before a product is purchased.\n",
    "print(55*'=')\n",
    "a=data2['TYPE'].value_counts()['product']\n",
    "b=data2['TYPE'].value_counts()['purchase']\n",
    "c=data2['TYPE'].value_counts()['product']/result['TYPE'].value_counts()['purchase']\n",
    "print('Total Number of Product views:',a, '\\nTotal number of purchases made:',b,'\\nRatio of product views to purchases:',round(c,2))\n",
    "print(55*'=')"
   ]
  },
  {
   "cell_type": "markdown",
   "metadata": {},
   "source": [
    "### 3.2. Categorywise transaction analysis\n",
    "Below plots show the products viewed and the products purchased in each categories respectively. Each category is named from the integer 0 to integer 11."
   ]
  },
  {
   "cell_type": "code",
   "execution_count": 22,
   "metadata": {},
   "outputs": [
    {
     "data": {
      "image/png": "[encoded data removed]",
      "text/plain": [
       "<matplotlib.figure.Figure at 0x28e80444f98>"
      ]
     },
     "metadata": {},
     "output_type": "display_data"
    },
    {
     "data": {
      "image/png": "[encoded data removed]",
      "text/plain": [
       "<matplotlib.figure.Figure at 0x28e805bda58>"
      ]
     },
     "metadata": {},
     "output_type": "display_data"
    }
   ],
   "source": [
    "p1=result[result['TYPE']=='purchase']\n",
    "p2=result[result['TYPE']=='PRODUCT']\n",
    "p1=result[result['TYPE']=='purchase'].groupby(['CATEGORY_0']).count()['TYPE']\n",
    "p2=result[result['TYPE']=='product'].groupby(['CATEGORY_0']).count()['TYPE']\n",
    "p3=pd.DataFrame(dict(Purchase = p1, Product_Viewed = p2)).reset_index()\n",
    "p3['Ratio']=p3['Product_Viewed']/p3['Purchase']\n",
    "\n",
    "# Purchases made in each category\n",
    "fig, ax = plt.subplots(figsize = (15, 9))\n",
    "p3.plot.bar(x = 'CATEGORY_0', y = 'Purchase', rot = 60, ax = ax)\n",
    "plt.suptitle('Purchases made in each category', fontsize=16)\n",
    "for p in ax.patches: \n",
    "    ax.annotate(np.round(p.get_height(),decimals=2), (p.get_x()+p.get_width()/2., p.get_height()))\n",
    "\n",
    "#Products viewed in each category\n",
    "fig, ax = plt.subplots(figsize = (15, 9))\n",
    "p3.plot.bar(x = 'CATEGORY_0', y = 'Product_Viewed', rot = 60, ax = ax)\n",
    "plt.suptitle('Products viewed in each category', fontsize=16)\n",
    "for p in ax.patches: \n",
    "    ax.annotate(np.round(p.get_height(),decimals=2), (p.get_x()+p.get_width()/2., p.get_height()))"
   ]
  },
  {
   "cell_type": "markdown",
   "metadata": {},
   "source": [
    "From the above plot it can be observed that Category 1 has highest number of views and highest number of purchases"
   ]
  },
  {
   "cell_type": "markdown",
   "metadata": {},
   "source": [
    "### 3.3. Purchases made at different times"
   ]
  },
  {
   "cell_type": "code",
   "execution_count": 23,
   "metadata": {},
   "outputs": [
    {
     "data": {
      "image/png": "[encoded data removed]",
      "text/plain": [
       "<matplotlib.figure.Figure at 0x28e8050d3c8>"
      ]
     },
     "metadata": {},
     "output_type": "display_data"
    }
   ],
   "source": [
    "# Purchases made at different times, group by on month_of_year\n",
    "fig, ax = plt.subplots(figsize=(10,6))\n",
    "p4=result4[result4['BUY']==1].groupby(['month_of_year']).count()['BUY']\n",
    "p4.plot(kind = 'bar', title = 'Purchases made on different times of an year')\n",
    "plt.show()"
   ]
  },
  {
   "cell_type": "markdown",
   "metadata": {},
   "source": [
    "From the above graph it can be seen that more products are sold during December-January. December-January are considered as holiday seasons."
   ]
  },
  {
   "cell_type": "code",
   "execution_count": 24,
   "metadata": {},
   "outputs": [
    {
     "data": {
      "image/png": "[encoded data removed]",
      "text/plain": [
       "<matplotlib.figure.Figure at 0x28edb43fdd8>"
      ]
     },
     "metadata": {},
     "output_type": "display_data"
    }
   ],
   "source": [
    "# Purchases made at different times in a day , group by on Hour_of_day\n",
    "p5=result4[result4['BUY']==1].groupby(['Hour_of_day']).count()['BUY']\n",
    "fig, ax = plt.subplots(figsize = (15, 9))\n",
    "p5.plot.bar(x = 'Hour_of_day', y = 'BUY', rot = 60, ax = ax)\n",
    "plt.suptitle('Purchases made at different times in a day', fontsize=16)\n",
    "for p in ax.patches: \n",
    "    ax.annotate(np.round(p.get_height(),decimals=2), (p.get_x()+p.get_width()/2., p.get_height()))\n"
   ]
  },
  {
   "cell_type": "markdown",
   "metadata": {},
   "source": [
    "From the above graph it can be observed that most products are bought during the night time."
   ]
  },
  {
   "cell_type": "markdown",
   "metadata": {},
   "source": [
    "### 3.4. Average price of the items in each category."
   ]
  },
  {
   "cell_type": "code",
   "execution_count": 25,
   "metadata": {},
   "outputs": [],
   "source": [
    "# Average price of the items in each category.\n",
    "temp=result4.drop_duplicates(subset=['CATEGORY_0','CATEGORY_1','PRICE','BUY'], keep='first', inplace=False)\n",
    "p6=temp.groupby('CATEGORY_0').agg({'CATEGORY_1': 'count', 'PRICE': 'mean','BUY':'sum'})"
   ]
  },
  {
   "cell_type": "code",
   "execution_count": 26,
   "metadata": {},
   "outputs": [
    {
     "data": {
      "image/png": "[encoded data removed]",
      "text/plain": [
       "<matplotlib.figure.Figure at 0x28e81470c50>"
      ]
     },
     "metadata": {},
     "output_type": "display_data"
    }
   ],
   "source": [
    "# Plot Average price of the items in each category.\n",
    "fig, ax = plt.subplots(figsize = (15, 9))\n",
    "p6.plot.bar(x = 'BUY', y = 'PRICE', rot = 60, ax = ax)\n",
    "plt.suptitle('Average price of the items in each category', fontsize=16)\n",
    "for p in ax.patches: \n",
    "    ax.annotate(np.round(p.get_height(),decimals=2), (p.get_x()+p.get_width()/2., p.get_height()))\n"
   ]
  },
  {
   "cell_type": "markdown",
   "metadata": {},
   "source": [
    "Above graph shows average price of iteams in each category."
   ]
  },
  {
   "cell_type": "markdown",
   "metadata": {},
   "source": [
    "## 4. Prediction Analysis\n",
    "\n",
    "So far we tried to analyse the patterns in the data and extracted the features. \n",
    "\n",
    "Observing the data, we can find that the data is not balanced. That is, most of the data predominantly has the result of 'not buy'. This can highly influence the model since there more samples from one class than the other. To make the number of sample from both classes, random over-sampling technique can be used. In this technique, the minority class i.e. the 'buy' class is over-sampled by picking at random with replacement. This method evens out the number of samples from both classes in the dataset. \n",
    "  \n"
   ]
  },
  {
   "cell_type": "markdown",
   "metadata": {},
   "source": [
    "By oversampling only on the training data, none of the information in the validation data is being used to create synthetic observations. So these results should be generalizable. "
   ]
  },
  {
   "cell_type": "code",
   "execution_count": 27,
   "metadata": {},
   "outputs": [],
   "source": [
    "# Split the data\n",
    "\n",
    "X=churn[['PRODUCT_ID','USER_ID','PRICE','CATEGORY_0','CATEGORY_1','Day_of_week','month_of_year','Hour_of_day','Day_of_Month','Bought_Before','user_session','user_buy_category']].copy()\n",
    "Y=churn['BUY']\n",
    "X_train, X_test, y_train, y_test = train_test_split(X, Y, test_size=0.33, random_state=42)\n",
    "\n",
    "#sm = SMOTE(random_state=12, ratio = 1.0)\n",
    "#X_resampled, y_resampled = sm.fit_sample(X_train, y_train)\n",
    "# user oversampler library to balance the data.\n",
    "\n",
    "ros = RandomOverSampler(random_state=0)\n",
    "X_resampled, y_resampled = ros.fit_sample(X_train, y_train)"
   ]
  },
  {
   "cell_type": "markdown",
   "metadata": {},
   "source": [
    "After preparing the final dataset, variable **BUY** is predicted using following variables.\n",
    "\n",
    "* PRODUCT_ID: Unique identifier to each product\n",
    "* PRICE: Price for the product\n",
    "* CATEGORY_0: Main category the product belongs to.\n",
    "* CATEGORY_1: Sub category to CATEGORY_0\n",
    "* USER_ID: Unique identifier to User.\n",
    "* Day_of_week: Day of the week the activity has been done.(Sun-Sat: 0-6)\n",
    "* Day_of_Month: 1-31\n",
    "* month_of_year: 1-12\n",
    "* Hour_of_day:00-23\n",
    "* product_buy: Number of times the product has been purchased before this transaction(incremental).\n",
    "* user_session: Number of users sessions in the last 5 months\n",
    "* user_buy_category: Number of items user bought the items in the last 5 months in the same category"
   ]
  },
  {
   "cell_type": "markdown",
   "metadata": {},
   "source": [
    "### 4.1 Logistic Regression"
   ]
  },
  {
   "cell_type": "markdown",
   "metadata": {},
   "source": [
    "Logistic regression algorithm is used to predict the successful transaction as below."
   ]
  },
  {
   "cell_type": "code",
   "execution_count": 28,
   "metadata": {},
   "outputs": [
    {
     "name": "stdout",
     "output_type": "stream",
     "text": [
      "0.8545948041876696 [[190239  33436]\n",
      " [  1064  12529]]\n"
     ]
    }
   ],
   "source": [
    "# Fit logistic model on train data and predict the test data \n",
    "logisticRegr = LogisticRegression()\n",
    "logisticRegr.fit(X_resampled, y_resampled)\n",
    "Y_pred = logisticRegr.predict(X_test)\n",
    "print(accuracy_score(y_test,Y_pred),confusion_matrix(y_test,Y_pred))\n",
    "\n"
   ]
  },
  {
   "cell_type": "code",
   "execution_count": 29,
   "metadata": {},
   "outputs": [
    {
     "name": "stdout",
     "output_type": "stream",
     "text": [
      "85.45948041876696\n"
     ]
    }
   ],
   "source": [
    "# Confusion matrix\n",
    "cm = metrics.confusion_matrix(y_test,Y_pred)\n",
    "score = logisticRegr.score(X_test, y_test)*100\n",
    "print(score)\n"
   ]
  },
  {
   "cell_type": "code",
   "execution_count": 30,
   "metadata": {},
   "outputs": [
    {
     "data": {
      "image/png": "[encoded data removed]",
      "text/plain": [
       "<matplotlib.figure.Figure at 0x28e815380b8>"
      ]
     },
     "metadata": {},
     "output_type": "display_data"
    }
   ],
   "source": [
    "# Plot Confusion matrix heatmap\n",
    "plt.figure(0,figsize=(15,9))\n",
    "plt.subplot(211)\n",
    "sns.heatmap(cm, annot=True, fmt=\".3f\", linewidths=.5, square = True, cmap = 'Blues_r');\n",
    "plt.ylabel('Actual label');\n",
    "plt.xlabel('Predicted label');\n",
    "all_sample_title = 'Accuracy Score: {0}'.format(score)\n",
    "plt.title(all_sample_title, size = 15);\n",
    "\n",
    "#Plot ROC map\n",
    "logit_roc_auc = roc_auc_score(y_test, logisticRegr.predict(X_test))\n",
    "fpr, tpr, thresholds = roc_curve(y_test, logisticRegr.predict_proba(X_test)[:,1])\n",
    "plt.subplot(212)\n",
    "plt.plot(fpr, tpr, label='Logistic Regression (area = %0.2f)' % logit_roc_auc)\n",
    "plt.plot([0, 1], [0, 1],'r--')\n",
    "plt.xlim([0.0, 1.0])\n",
    "plt.ylim([0.0, 1.05])\n",
    "plt.xlabel('False Positive Rate')\n",
    "plt.ylabel('True Positive Rate')\n",
    "plt.title('Receiver operating characteristic')\n",
    "plt.legend(loc=\"lower right\")\n",
    "plt.savefig('Log_ROC')\n",
    "plt.show()"
   ]
  },
  {
   "cell_type": "markdown",
   "metadata": {},
   "source": [
    "The above confusion matrix displays \n",
    "1. 190239 unsuccessful transactions were predicted properly while 33436 unsuccessful transactions were not predicted accurately.\n",
    "2. 12529 succesful transactions were predicted accurately while other 1064 predictions were not succesful.\n",
    "\n",
    "Here we can observe that propotion between 1 and 2 are similar. over-sampling technique helped us to improve the model by randomizing the minority class.\n",
    "Logistic regression model produced an accuracy of 85.5%\n"
   ]
  },
  {
   "cell_type": "markdown",
   "metadata": {},
   "source": [
    "### 4.2 Decision Tree\n",
    "\n",
    "In decision analysis, a decision tree can be used to visually and explicitly represent decisions and decision making while predicitng."
   ]
  },
  {
   "cell_type": "code",
   "execution_count": 31,
   "metadata": {},
   "outputs": [],
   "source": [
    "# Function to model decision trees, display it and predict the test data. plot heatmap of confusion matrix and feature importance\n",
    "def dec_tree(X_train,Y_train,X_test,Y_test,Models):\n",
    "    decision_tree = DecisionTreeClassifier(min_samples_split=500)\n",
    "    decision_tree.fit(X_train, Y_train)\n",
    "    Y_pred = decision_tree.predict(X_test)\n",
    "    Models['Decision Tree'] = [accuracy_score(Y_test,Y_pred),confusion_matrix(Y_test,Y_pred)]\n",
    "    print(confusion_matrix(Y_test, Y_pred))\n",
    "    features=['PRODUCT_ID','USER_ID','PRICE','CATEGORY_0','CATEGORY_1','Day_of_week','month_of_year','Hour_of_day','Day_of_month','Bought_Before','user_session','user_buy_category']\n",
    "    #show_tree(decision_tree)\n",
    "    print(Models)\n",
    "    score = decision_tree.score(X_test, y_test)*100\n",
    "    plt.figure(0,figsize=(15,9))\n",
    "    plt.subplot(211)\n",
    "    cm = metrics.confusion_matrix(Y_test,Y_pred)\n",
    "    sns.heatmap(cm, annot=True, fmt=\".3f\", linewidths=.5, square = True, cmap = 'Blues_r');\n",
    "    plt.ylabel('Actual label');\n",
    "    plt.xlabel('Predicted label');\n",
    "    all_sample_title = 'Accuracy Score: {0}'.format(score)\n",
    "    plt.title(all_sample_title, size = 15);\n",
    "    importances = decision_tree.feature_importances_\n",
    "    indices = np.argsort(importances)\n",
    "    plt.figure(0)\n",
    "    plt.subplot(212)\n",
    "    plt.title('Feature Importances')\n",
    "    plt.barh(range(len(indices)), importances[indices], color='b', align='center')\n",
    "    plt.yticks(range(len(indices)), features)\n",
    "    plt.xlabel('Relative Importance')\n",
    "    return decision_tree\n",
    "\n",
    "# To display the decision tree\n",
    "def show_tree(tree):\n",
    "    dot_data = StringIO()\n",
    "    export_graphviz(tree, out_file=dot_data, \n",
    "                filled=True, rounded=True,\n",
    "                special_characters=True)\n",
    "    graph = pydotplus.graph_from_dot_data(dot_data.getvalue())  \n",
    "    Image(graph.create_png())"
   ]
  },
  {
   "cell_type": "code",
   "execution_count": 32,
   "metadata": {
    "scrolled": true
   },
   "outputs": [
    {
     "name": "stdout",
     "output_type": "stream",
     "text": [
      "[[201193  22482]\n",
      " [  1814  11779]]\n",
      "{'Decision Tree': [0.8976010250012644, array([[201193,  22482],\n",
      "       [  1814,  11779]], dtype=int64)]}\n"
     ]
    },
    {
     "data": {
      "image/png": "[encoded data removed]",
      "text/plain": [
       "<matplotlib.figure.Figure at 0x28e814ddcc0>"
      ]
     },
     "metadata": {},
     "output_type": "display_data"
    }
   ],
   "source": [
    "# Call the decision tree function\n",
    "Models=dict()\n",
    "features=['PRODUCT_ID','USER_ID','PRICE','CATEGORY_0','CATEGORY_1','Day_of_week','month_of_year','Hour_of_day','Day_of_Month','Bought_Before','user_session','user_buy_category']\n",
    "decision_tree=dec_tree(X_resampled,y_resampled,X_test,y_test,Models)\n",
    "#for name, importance in zip(features, decision_tree.feature_importances_):\n",
    " #       print(name, importance)"
   ]
  },
  {
   "cell_type": "markdown",
   "metadata": {},
   "source": [
    "From the above graph, decision tree model was able to predict 89% of the transactions correctly. and also from the feature importance graph, we could observe that decision tree model considered user behaviours as their important variables to split. This result helps in identifying key features to increase the purchases."
   ]
  },
  {
   "cell_type": "markdown",
   "metadata": {},
   "source": [
    "### 4.3 Statistical Analysis\n",
    "From the decision tree model we found out that the variables user_session, user_buy_category, Bought_before variables play important role in deciding the model predictors. To analyze this model further, lets take a mean of all the variables and conduct t-test to find out the significance. "
   ]
  },
  {
   "cell_type": "code",
   "execution_count": 33,
   "metadata": {},
   "outputs": [
    {
     "data": {
      "text/html": [
       "<div>\n",
       "<style scoped>\n",
       "    .dataframe tbody tr th:only-of-type {\n",
       "        vertical-align: middle;\n",
       "    }\n",
       "\n",
       "    .dataframe tbody tr th {\n",
       "        vertical-align: top;\n",
       "    }\n",
       "\n",
       "    .dataframe thead th {\n",
       "        text-align: right;\n",
       "    }\n",
       "</style>\n",
       "<table border=\"1\" class=\"dataframe\">\n",
       "  <thead>\n",
       "    <tr style=\"text-align: right;\">\n",
       "      <th></th>\n",
       "      <th>PRODUCT_ID</th>\n",
       "      <th>USER_ID</th>\n",
       "      <th>PRICE</th>\n",
       "      <th>CATEGORY_0</th>\n",
       "      <th>CATEGORY_1</th>\n",
       "      <th>Day_of_week</th>\n",
       "      <th>month_of_year</th>\n",
       "      <th>Hour_of_day</th>\n",
       "      <th>Day_of_Month</th>\n",
       "      <th>Bought_Before</th>\n",
       "      <th>user_session</th>\n",
       "      <th>user_buy_category</th>\n",
       "    </tr>\n",
       "    <tr>\n",
       "      <th>BUY</th>\n",
       "      <th></th>\n",
       "      <th></th>\n",
       "      <th></th>\n",
       "      <th></th>\n",
       "      <th></th>\n",
       "      <th></th>\n",
       "      <th></th>\n",
       "      <th></th>\n",
       "      <th></th>\n",
       "      <th></th>\n",
       "      <th></th>\n",
       "      <th></th>\n",
       "    </tr>\n",
       "  </thead>\n",
       "  <tbody>\n",
       "    <tr>\n",
       "      <th>0</th>\n",
       "      <td>417962.13</td>\n",
       "      <td>519453.87</td>\n",
       "      <td>6930.92</td>\n",
       "      <td>3.71</td>\n",
       "      <td>54.20</td>\n",
       "      <td>3.00</td>\n",
       "      <td>7.74</td>\n",
       "      <td>15.22</td>\n",
       "      <td>15.17</td>\n",
       "      <td>0.06</td>\n",
       "      <td>179.08</td>\n",
       "      <td>0.63</td>\n",
       "    </tr>\n",
       "    <tr>\n",
       "      <th>1</th>\n",
       "      <td>418363.11</td>\n",
       "      <td>528897.74</td>\n",
       "      <td>2605.49</td>\n",
       "      <td>3.68</td>\n",
       "      <td>54.03</td>\n",
       "      <td>2.95</td>\n",
       "      <td>8.35</td>\n",
       "      <td>15.27</td>\n",
       "      <td>14.95</td>\n",
       "      <td>0.11</td>\n",
       "      <td>43.67</td>\n",
       "      <td>2.48</td>\n",
       "    </tr>\n",
       "  </tbody>\n",
       "</table>\n",
       "</div>"
      ],
      "text/plain": [
       "     PRODUCT_ID   USER_ID   PRICE  CATEGORY_0  CATEGORY_1  Day_of_week  \\\n",
       "BUY                                                                      \n",
       "0     417962.13 519453.87 6930.92        3.71       54.20         3.00   \n",
       "1     418363.11 528897.74 2605.49        3.68       54.03         2.95   \n",
       "\n",
       "     month_of_year  Hour_of_day  Day_of_Month  Bought_Before  user_session  \\\n",
       "BUY                                                                          \n",
       "0             7.74        15.22         15.17           0.06        179.08   \n",
       "1             8.35        15.27         14.95           0.11         43.67   \n",
       "\n",
       "     user_buy_category  \n",
       "BUY                     \n",
       "0                 0.63  \n",
       "1                 2.48  "
      ]
     },
     "execution_count": 33,
     "metadata": {},
     "output_type": "execute_result"
    }
   ],
   "source": [
    "# Mean of the variables in both the groups\n",
    "churn.groupby('BUY').mean()"
   ]
  },
  {
   "cell_type": "markdown",
   "metadata": {},
   "source": [
    "From the above table we can see that the variables PRICE, Bought_Before, user_session, user_buy_category variables have significant difference between both the groups .\n",
    "Lets apply t test on these variables and find out."
   ]
  },
  {
   "cell_type": "code",
   "execution_count": 34,
   "metadata": {},
   "outputs": [
    {
     "name": "stdout",
     "output_type": "stream",
     "text": [
      "PRICE             :- Ttest_indResult(statistic=-1.6285689625804638, pvalue=0.10340473729419704)\n",
      "user_session      :- Ttest_indResult(statistic=-66.95018110987134, pvalue=0.0)\n",
      "user_buy_category :- Ttest_indResult(statistic=129.39543524519797, pvalue=0.0)\n",
      "Bought_Before     :- Ttest_indResult(statistic=30.115458564696088, pvalue=4.0490298463343715e-199)\n",
      "CATEGORY_0        :- Ttest_indResult(statistic=-1.7933335944776092, pvalue=0.07292001887131085)\n",
      "CATEGORY_1        :- Ttest_indResult(statistic=-0.9925502874925252, pvalue=0.320929495373983)\n"
     ]
    }
   ],
   "source": [
    "print('PRICE             :-',stats.ttest_ind(churn[churn['BUY']==1].PRICE,churn[churn['BUY']==0].PRICE))\n",
    "print('user_session      :-',stats.ttest_ind(churn[churn['BUY']==1].user_session,churn[churn['BUY']==0].user_session))\n",
    "print('user_buy_category :-',stats.ttest_ind(churn[churn['BUY']==1].user_buy_category,churn[churn['BUY']==0].user_buy_category))\n",
    "print('Bought_Before     :-',stats.ttest_ind(churn[churn['BUY']==1].Bought_Before,churn[churn['BUY']==0].Bought_Before))\n",
    "print('CATEGORY_0        :-',stats.ttest_ind(churn[churn['BUY']==1].CATEGORY_0,churn[churn['BUY']==0].CATEGORY_0))\n",
    "print('CATEGORY_1        :-',stats.ttest_ind(churn[churn['BUY']==1].CATEGORY_1,churn[churn['BUY']==0].CATEGORY_1))"
   ]
  },
  {
   "cell_type": "markdown",
   "metadata": {},
   "source": [
    "From the t-test results we can conclude that user behaviour plays important role in the predicting the product purchase and also number of times the product has been purchased before plays vital role."
   ]
  },
  {
   "cell_type": "markdown",
   "metadata": {},
   "source": [
    "## 5. Results and Recommendations.\n",
    "\n",
    "From the previous tests we concluded that user behaviour and product purchase history are important in decision making.\n",
    "\n",
    "### 5.1 Recommendation 1\n",
    "Identify the products which is never bought before and find a solution to market the product or to find the suitable customers for these products.\n",
    "e.g. Identify the products which were never purchased before and provide discounts on those items. "
   ]
  },
  {
   "cell_type": "code",
   "execution_count": 35,
   "metadata": {},
   "outputs": [
    {
     "data": {
      "text/html": [
       "<div>\n",
       "<style scoped>\n",
       "    .dataframe tbody tr th:only-of-type {\n",
       "        vertical-align: middle;\n",
       "    }\n",
       "\n",
       "    .dataframe tbody tr th {\n",
       "        vertical-align: top;\n",
       "    }\n",
       "\n",
       "    .dataframe thead th {\n",
       "        text-align: right;\n",
       "    }\n",
       "</style>\n",
       "<table border=\"1\" class=\"dataframe\">\n",
       "  <thead>\n",
       "    <tr style=\"text-align: right;\">\n",
       "      <th></th>\n",
       "      <th>BUY</th>\n",
       "      <th>PRICE</th>\n",
       "    </tr>\n",
       "    <tr>\n",
       "      <th>PRODUCT_ID</th>\n",
       "      <th></th>\n",
       "      <th></th>\n",
       "    </tr>\n",
       "  </thead>\n",
       "  <tbody>\n",
       "    <tr>\n",
       "      <th>0.00</th>\n",
       "      <td>0</td>\n",
       "      <td>20.04</td>\n",
       "    </tr>\n",
       "    <tr>\n",
       "      <th>2.00</th>\n",
       "      <td>0</td>\n",
       "      <td>10.00</td>\n",
       "    </tr>\n",
       "    <tr>\n",
       "      <th>6.00</th>\n",
       "      <td>0</td>\n",
       "      <td>39.18</td>\n",
       "    </tr>\n",
       "    <tr>\n",
       "      <th>8.00</th>\n",
       "      <td>0</td>\n",
       "      <td>29.49</td>\n",
       "    </tr>\n",
       "    <tr>\n",
       "      <th>9.00</th>\n",
       "      <td>0</td>\n",
       "      <td>25.02</td>\n",
       "    </tr>\n",
       "  </tbody>\n",
       "</table>\n",
       "</div>"
      ],
      "text/plain": [
       "            BUY  PRICE\n",
       "PRODUCT_ID            \n",
       "0.00          0  20.04\n",
       "2.00          0  10.00\n",
       "6.00          0  39.18\n",
       "8.00          0  29.49\n",
       "9.00          0  25.02"
      ]
     },
     "execution_count": 35,
     "metadata": {},
     "output_type": "execute_result"
    }
   ],
   "source": [
    "rec1=churn.groupby('PRODUCT_ID').agg({'BUY':'sum','PRICE':'mean'})\n",
    "#rec1[rec1==0].head()\n",
    "rec1[rec1['BUY']==0].head()\n",
    "\n"
   ]
  },
  {
   "cell_type": "markdown",
   "metadata": {},
   "source": [
    "The above PRODUCT_IDs are the sample 5 products which are never sold before. These products could be overviewed for the discount. "
   ]
  },
  {
   "cell_type": "markdown",
   "metadata": {},
   "source": [
    "### 5.2 Recommendation 2\n",
    " Identify the customers who have viewed the products multiple times but never have made a purchase.Identify the reason he didnt make the purchase. Those customers can be encouraged by personal discounts as such."
   ]
  },
  {
   "cell_type": "code",
   "execution_count": 36,
   "metadata": {},
   "outputs": [
    {
     "data": {
      "text/html": [
       "<div>\n",
       "<style scoped>\n",
       "    .dataframe tbody tr th:only-of-type {\n",
       "        vertical-align: middle;\n",
       "    }\n",
       "\n",
       "    .dataframe tbody tr th {\n",
       "        vertical-align: top;\n",
       "    }\n",
       "\n",
       "    .dataframe thead th {\n",
       "        text-align: right;\n",
       "    }\n",
       "</style>\n",
       "<table border=\"1\" class=\"dataframe\">\n",
       "  <thead>\n",
       "    <tr style=\"text-align: right;\">\n",
       "      <th></th>\n",
       "      <th>BUY</th>\n",
       "      <th>PRODUCT_ID</th>\n",
       "    </tr>\n",
       "    <tr>\n",
       "      <th>USER_ID</th>\n",
       "      <th></th>\n",
       "      <th></th>\n",
       "    </tr>\n",
       "  </thead>\n",
       "  <tbody>\n",
       "    <tr>\n",
       "      <th>42</th>\n",
       "      <td>0</td>\n",
       "      <td>47</td>\n",
       "    </tr>\n",
       "    <tr>\n",
       "      <th>49</th>\n",
       "      <td>0</td>\n",
       "      <td>26</td>\n",
       "    </tr>\n",
       "    <tr>\n",
       "      <th>357</th>\n",
       "      <td>0</td>\n",
       "      <td>12</td>\n",
       "    </tr>\n",
       "    <tr>\n",
       "      <th>889</th>\n",
       "      <td>0</td>\n",
       "      <td>13</td>\n",
       "    </tr>\n",
       "    <tr>\n",
       "      <th>1008</th>\n",
       "      <td>0</td>\n",
       "      <td>13</td>\n",
       "    </tr>\n",
       "  </tbody>\n",
       "</table>\n",
       "</div>"
      ],
      "text/plain": [
       "         BUY  PRODUCT_ID\n",
       "USER_ID                 \n",
       "42         0          47\n",
       "49         0          26\n",
       "357        0          12\n",
       "889        0          13\n",
       "1008       0          13"
      ]
     },
     "execution_count": 36,
     "metadata": {},
     "output_type": "execute_result"
    }
   ],
   "source": [
    "rec2=churn.groupby('USER_ID').agg({'BUY':'sum','PRODUCT_ID':'count'})\n",
    "#rec1[rec1==0].head()\n",
    "rec2=rec2[rec2['BUY']==0]\n",
    "rec2[rec2['PRODUCT_ID']>10].head()"
   ]
  },
  {
   "cell_type": "markdown",
   "metadata": {},
   "source": [
    "Above are the sample set of users who viewed a product multiple times but never purchased."
   ]
  }
 ],
 "metadata": {
  "celltoolbar": "Slideshow",
  "kernelspec": {
   "display_name": "Python 3",
   "language": "python",
   "name": "python3"
  },
  "language_info": {
   "codemirror_mode": {
    "name": "ipython",
    "version": 3
   },
   "file_extension": ".py",
   "mimetype": "text/x-python",
   "name": "python",
   "nbconvert_exporter": "python",
   "pygments_lexer": "ipython3",
   "version": "3.6.4"
  }
 },
 "nbformat": 4,
 "nbformat_minor": 2
}
